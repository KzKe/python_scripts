{
 "cells": [
  {
   "cell_type": "code",
   "execution_count": 10,
   "metadata": {
    "ExecuteTime": {
     "end_time": "2020-09-17T07:47:04.674932Z",
     "start_time": "2020-09-17T07:47:04.672539Z"
    }
   },
   "outputs": [],
   "source": [
    "import fasttext\n",
    "import pandas as pd \n",
    "from tqdm import tqdm"
   ]
  },
  {
   "cell_type": "code",
   "execution_count": 13,
   "metadata": {
    "ExecuteTime": {
     "end_time": "2020-09-17T07:49:37.630077Z",
     "start_time": "2020-09-17T07:49:37.624852Z"
    }
   },
   "outputs": [
    {
     "ename": "ImportError",
     "evalue": "cannot import name 'train_supervised' from 'fasttext' (/Users/kangke/Documents/GitHub/python_scripts/algorithms_script/fasttext.py)",
     "output_type": "error",
     "traceback": [
      "\u001b[0;31m---------------------------------------------------------------------------\u001b[0m",
      "\u001b[0;31mImportError\u001b[0m                               Traceback (most recent call last)",
      "\u001b[0;32m<ipython-input-13-fb4477e5b65b>\u001b[0m in \u001b[0;36m<module>\u001b[0;34m()\u001b[0m\n\u001b[0;32m----> 1\u001b[0;31m \u001b[0;32mfrom\u001b[0m \u001b[0mfasttext\u001b[0m \u001b[0;32mimport\u001b[0m \u001b[0mtrain_supervised\u001b[0m\u001b[0;34m\u001b[0m\u001b[0;34m\u001b[0m\u001b[0m\n\u001b[0m",
      "\u001b[0;31mImportError\u001b[0m: cannot import name 'train_supervised' from 'fasttext' (/Users/kangke/Documents/GitHub/python_scripts/algorithms_script/fasttext.py)"
     ]
    }
   ],
   "source": [
    "import fasttext."
   ]
  },
  {
   "cell_type": "code",
   "execution_count": 11,
   "metadata": {
    "ExecuteTime": {
     "end_time": "2020-09-17T07:47:12.603875Z",
     "start_time": "2020-09-17T07:47:12.579270Z"
    }
   },
   "outputs": [],
   "source": [
    "\n",
    "class Fasttext(object):\n",
    "    def __init__(self,\n",
    "                 train_raw_path= '../data/toutiao_train.csv',\n",
    "                 test_raw_path=  '../data/toutiao_test.csv',\n",
    "                 model_train_file=  '../data/fast_train.csv',\n",
    "                 model_test_file=  '../data/fast_test.csv',\n",
    "                 model_path=None):\n",
    "        '''\n",
    "        @description: initliza the class, if model_path is None, then train a  fasttext model, else load model then predict\n",
    "        @param {type}\n",
    "        model_path, fasttext model path\n",
    "        @return:None\n",
    "        '''\n",
    "        if model_path is None:\n",
    "            self.Train_raw_data = pd.read_csv(train_raw_path)\n",
    "            self.Test_raw_data = pd.read_csv(test_raw_path)\n",
    "            self.data_process(self.Train_raw_data, model_train_file)\n",
    "            self.data_process(self.Test_raw_data, model_test_file)\n",
    "            self.train(model_train_file, model_test_file)\n",
    "\n",
    "        else:\n",
    "            self.fast = fasttext.load_model(model_path)\n",
    "\n",
    "    def data_process(self, raw_data, model_data_file):\n",
    "        '''\n",
    "        @description: process raw data\n",
    "        @param {type}\n",
    "        raw_data, raw data\n",
    "        model_data_file, processed data save path\n",
    "        @return: None\n",
    "        '''\n",
    "        with open(model_data_file, 'w') as f:\n",
    "            for index, row in tqdm(raw_data.iterrows(),\n",
    "                                   total=raw_data.shape[0]):\n",
    "                outline = row['text'] + \"\\t__label__\" + \\\n",
    "                    str(int(row['label'])) + \"\\n\"\n",
    "                f.write(outline)\n",
    "\n",
    "    def train(self, model_train_file, model_test_file):\n",
    "        '''\n",
    "        @description: Train a  fasttext model, then test and save\n",
    "        @param {type}\n",
    "        model_train_file, train data path\n",
    "        model_test_file, text data path\n",
    "        @return:None\n",
    "        '''\n",
    "        self.classifier = fasttext.train_supervised(model_train_file,\n",
    "                                                    label=\"__label__\",\n",
    "                                                    dim=50,\n",
    "                                                    epoch=5,\n",
    "                                                    lr=0.1,\n",
    "                                                    wordNgrams=2,\n",
    "                                                    loss='softmax',\n",
    "                                                    thread=50,\n",
    "                                                    verbose=True)\n",
    "        self.test(model_train_file, model_test_file)\n",
    "        self.classifier.save_model('fasttext.model',)\n",
    "\n",
    "    def test(self, model_train_file, model_test_file):\n",
    "        test_result = self.classifier.test(model_test_file)\n",
    "        train_result = self.classifier.test(model_train_file)\n",
    "\n",
    "        # 返回精确率和召回率\n",
    "        print(test_result[1], test_result[2])\n",
    "        print(train_result[1], train_result[2])"
   ]
  },
  {
   "cell_type": "code",
   "execution_count": 12,
   "metadata": {
    "ExecuteTime": {
     "end_time": "2020-09-17T07:47:39.258332Z",
     "start_time": "2020-09-17T07:47:13.413466Z"
    }
   },
   "outputs": [
    {
     "name": "stderr",
     "output_type": "stream",
     "text": [
      "100%|██████████| 306150/306150 [00:19<00:00, 15344.10it/s]\n",
      "100%|██████████| 76538/76538 [00:05<00:00, 14965.02it/s]\n"
     ]
    },
    {
     "ename": "AttributeError",
     "evalue": "module 'fasttext' has no attribute 'train_supervised'",
     "output_type": "error",
     "traceback": [
      "\u001b[0;31m---------------------------------------------------------------------------\u001b[0m",
      "\u001b[0;31mAttributeError\u001b[0m                            Traceback (most recent call last)",
      "\u001b[0;32m<ipython-input-12-44ac7e054f88>\u001b[0m in \u001b[0;36m<module>\u001b[0;34m()\u001b[0m\n\u001b[0;32m----> 1\u001b[0;31m \u001b[0mFasttext\u001b[0m\u001b[0;34m(\u001b[0m\u001b[0;34m)\u001b[0m\u001b[0;34m\u001b[0m\u001b[0;34m\u001b[0m\u001b[0m\n\u001b[0m",
      "\u001b[0;32m<ipython-input-11-11639b8356e3>\u001b[0m in \u001b[0;36m__init__\u001b[0;34m(self, train_raw_path, test_raw_path, model_train_file, model_test_file, model_path)\u001b[0m\n\u001b[1;32m     18\u001b[0m             \u001b[0mself\u001b[0m\u001b[0;34m.\u001b[0m\u001b[0mdata_process\u001b[0m\u001b[0;34m(\u001b[0m\u001b[0mself\u001b[0m\u001b[0;34m.\u001b[0m\u001b[0mTrain_raw_data\u001b[0m\u001b[0;34m,\u001b[0m \u001b[0mmodel_train_file\u001b[0m\u001b[0;34m)\u001b[0m\u001b[0;34m\u001b[0m\u001b[0;34m\u001b[0m\u001b[0m\n\u001b[1;32m     19\u001b[0m             \u001b[0mself\u001b[0m\u001b[0;34m.\u001b[0m\u001b[0mdata_process\u001b[0m\u001b[0;34m(\u001b[0m\u001b[0mself\u001b[0m\u001b[0;34m.\u001b[0m\u001b[0mTest_raw_data\u001b[0m\u001b[0;34m,\u001b[0m \u001b[0mmodel_test_file\u001b[0m\u001b[0;34m)\u001b[0m\u001b[0;34m\u001b[0m\u001b[0;34m\u001b[0m\u001b[0m\n\u001b[0;32m---> 20\u001b[0;31m             \u001b[0mself\u001b[0m\u001b[0;34m.\u001b[0m\u001b[0mtrain\u001b[0m\u001b[0;34m(\u001b[0m\u001b[0mmodel_train_file\u001b[0m\u001b[0;34m,\u001b[0m \u001b[0mmodel_test_file\u001b[0m\u001b[0;34m)\u001b[0m\u001b[0;34m\u001b[0m\u001b[0;34m\u001b[0m\u001b[0m\n\u001b[0m\u001b[1;32m     21\u001b[0m \u001b[0;34m\u001b[0m\u001b[0m\n\u001b[1;32m     22\u001b[0m         \u001b[0;32melse\u001b[0m\u001b[0;34m:\u001b[0m\u001b[0;34m\u001b[0m\u001b[0;34m\u001b[0m\u001b[0m\n",
      "\u001b[0;32m<ipython-input-11-11639b8356e3>\u001b[0m in \u001b[0;36mtrain\u001b[0;34m(self, model_train_file, model_test_file)\u001b[0m\n\u001b[1;32m     45\u001b[0m         \u001b[0;34m@\u001b[0m\u001b[0;32mreturn\u001b[0m\u001b[0;34m:\u001b[0m\u001b[0;32mNone\u001b[0m\u001b[0;34m\u001b[0m\u001b[0;34m\u001b[0m\u001b[0m\n\u001b[1;32m     46\u001b[0m         '''\n\u001b[0;32m---> 47\u001b[0;31m         self.classifier = fasttext.train_supervised(model_train_file,\n\u001b[0m\u001b[1;32m     48\u001b[0m                                                     \u001b[0mlabel\u001b[0m\u001b[0;34m=\u001b[0m\u001b[0;34m\"__label__\"\u001b[0m\u001b[0;34m,\u001b[0m\u001b[0;34m\u001b[0m\u001b[0;34m\u001b[0m\u001b[0m\n\u001b[1;32m     49\u001b[0m                                                     \u001b[0mdim\u001b[0m\u001b[0;34m=\u001b[0m\u001b[0;36m50\u001b[0m\u001b[0;34m,\u001b[0m\u001b[0;34m\u001b[0m\u001b[0;34m\u001b[0m\u001b[0m\n",
      "\u001b[0;31mAttributeError\u001b[0m: module 'fasttext' has no attribute 'train_supervised'"
     ]
    }
   ],
   "source": [
    "Fasttext()"
   ]
  },
  {
   "cell_type": "code",
   "execution_count": null,
   "metadata": {},
   "outputs": [],
   "source": []
  },
  {
   "cell_type": "code",
   "execution_count": null,
   "metadata": {},
   "outputs": [],
   "source": []
  },
  {
   "cell_type": "code",
   "execution_count": null,
   "metadata": {},
   "outputs": [],
   "source": []
  },
  {
   "cell_type": "code",
   "execution_count": null,
   "metadata": {},
   "outputs": [],
   "source": []
  },
  {
   "cell_type": "code",
   "execution_count": null,
   "metadata": {},
   "outputs": [],
   "source": []
  },
  {
   "cell_type": "code",
   "execution_count": null,
   "metadata": {},
   "outputs": [],
   "source": []
  }
 ],
 "metadata": {
  "kernelspec": {
   "display_name": "Python 3",
   "language": "python",
   "name": "python3"
  },
  "language_info": {
   "codemirror_mode": {
    "name": "ipython",
    "version": 3
   },
   "file_extension": ".py",
   "mimetype": "text/x-python",
   "name": "python",
   "nbconvert_exporter": "python",
   "pygments_lexer": "ipython3",
   "version": "3.7.8"
  }
 },
 "nbformat": 4,
 "nbformat_minor": 4
}
