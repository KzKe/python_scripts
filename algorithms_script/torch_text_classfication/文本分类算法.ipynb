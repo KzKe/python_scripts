{
 "cells": [
  {
   "cell_type": "code",
   "execution_count": 1,
   "metadata": {
    "ExecuteTime": {
     "end_time": "2020-09-18T00:46:53.762770Z",
     "start_time": "2020-09-18T00:46:52.924077Z"
    }
   },
   "outputs": [],
   "source": [
    "import torch\n",
    "import pandas as pd \n",
    "import numpy as np "
   ]
  },
  {
   "cell_type": "code",
   "execution_count": 4,
   "metadata": {
    "ExecuteTime": {
     "end_time": "2020-09-18T01:03:59.551030Z",
     "start_time": "2020-09-18T01:03:57.894571Z"
    }
   },
   "outputs": [
    {
     "name": "stderr",
     "output_type": "stream",
     "text": [
      "Source path:... <ipython-input-4-ad2486c5c7b9>\n",
      "New var:....... __name__ = '__main__'\n",
      "New var:....... __doc__ = 'Automatically created module for IPython interactive environment'\n",
      "New var:....... __package__ = None\n",
      "New var:....... __loader__ = None\n",
      "New var:....... __spec__ = None\n",
      "New var:....... __builtin__ = <module 'builtins' (built-in)>\n",
      "New var:....... __builtins__ = <module 'builtins' (built-in)>\n",
      "New var:....... _ih = ['', 'import torch\\nimport pandas as pd \\nimport...      loss.backward()\\n        optimizer.step()']\n",
      "New var:....... _oh = {}\n",
      "New var:....... _dh = ['/Users/kangke/Documents/GitHub/python_scripts/algorithms_script/torch_text_classfication']\n",
      "New var:....... _sh = <module 'IPython.core.shadowns' from '/Users/kan...ython3.7/site-packages/IPython/core/shadowns.py'>\n",
      "New var:....... In = ['', 'import torch\\nimport pandas as pd \\nimport...      loss.backward()\\n        optimizer.step()']\n",
      "New var:....... Out = {}\n",
      "New var:....... get_ipython = <bound method InteractiveShell.get_ipython of <i...ll.ZMQInteractiveShell object at 0x7fe6bb54d0d0>>\n",
      "New var:....... exit = <IPython.core.autocall.ZMQExitAutocall object at 0x7fe6bb5b49d0>\n",
      "New var:....... quit = <IPython.core.autocall.ZMQExitAutocall object at 0x7fe6bb5b49d0>\n",
      "New var:....... _ = ''\n",
      "New var:....... __ = ''\n",
      "New var:....... ___ = ''\n",
      "New var:....... _i = \"import torch\\nimport torchsnooper\\n\\n@torchsnoo...0, 3.0], device='cpu')\\ny = myfunc(mask, source)\"\n",
      "New var:....... _ii = \"import torch\\nimport torchsnooper\\n\\n@torchsnoo..., 3.0], device='cuda')\\ny = myfunc(mask, source)\"\n",
      "New var:....... _iii = 'import torch\\nimport pandas as pd \\nimport numpy as np '\n",
      "New var:....... _i1 = 'import torch\\nimport pandas as pd \\nimport numpy as np '\n",
      "New var:....... torch = <module 'torch' from '/Users/kangke/anaconda3/en...a/lib/python3.7/site-packages/torch/__init__.py'>\n",
      "New var:....... pd = <module 'pandas' from '/Users/kangke/anaconda3/e.../lib/python3.7/site-packages/pandas/__init__.py'>\n",
      "New var:....... np = <module 'numpy' from '/Users/kangke/anaconda3/en...a/lib/python3.7/site-packages/numpy/__init__.py'>\n",
      "New var:....... _i2 = \"import torch\\nimport torchsnooper\\n\\n@torchsnoo..., 3.0], device='cuda')\\ny = myfunc(mask, source)\"\n",
      "New var:....... torchsnooper = <module 'torchsnooper' from '/Users/kangke/anaco...ython3.7/site-packages/torchsnooper/__init__.py'>\n",
      "New var:....... myfunc = <function myfunc at 0x7fe6bdfaa170>\n",
      "New var:....... _i3 = \"import torch\\nimport torchsnooper\\n\\n@torchsnoo...0, 3.0], device='cpu')\\ny = myfunc(mask, source)\"\n",
      "New var:....... mask = tensor<(6,), int64, cpu>\n",
      "New var:....... source = tensor<(3,), float32, cpu>\n",
      "New var:....... _i4 = 'import torch\\nimport torchsnooper\\n\\nmodel = to...       loss.backward()\\n        optimizer.step()'\n",
      "New var:....... model = Linear(in_features=2, out_features=1, bias=True)\n",
      "New var:....... x = tensor<(4, 2), float32, cpu>\n",
      "New var:....... y = tensor<(4,), float32, cpu>\n",
      "New var:....... optimizer = SGD (Parameter Group 0    dampening: 0    lr: 0....omentum: 0    nesterov: False    weight_decay: 0)\n",
      "09:03:57.902460 line        12     for _ in range(10):\n",
      "Modified var:.. _ = 0\n",
      "09:03:57.904360 line        13         optimizer.zero_grad()\n",
      "09:03:57.906278 line        14         pred = model(x)\n"
     ]
    },
    {
     "name": "stdout",
     "output_type": "stream",
     "text": [
      "22.907920837402344\n",
      "12.131263732910156\n",
      "7.076070308685303\n",
      "4.680542469024658\n",
      "3.522920608520508\n",
      "2.9429028034210205\n",
      "2.6337404251098633\n",
      "2.4528415203094482\n",
      "2.333843469619751\n",
      "2.245785713195801\n"
     ]
    },
    {
     "name": "stderr",
     "output_type": "stream",
     "text": [
      "New var:....... pred = tensor<(4, 1), float32, cpu, grad>\n",
      "09:03:59.495378 line        15         squared_diff = (y - pred) ** 2\n",
      "New var:....... squared_diff = tensor<(4, 4), float32, cpu, grad>\n",
      "09:03:59.496302 line        16         loss = squared_diff.mean()\n",
      "New var:....... loss = tensor<(), float32, cpu, grad>\n",
      "09:03:59.496950 line        17         print(loss.item())\n",
      "09:03:59.497702 line        18         loss.backward()\n",
      "09:03:59.498928 line        19         optimizer.step()\n",
      "09:03:59.499804 line        12     for _ in range(10):\n",
      "Modified var:.. _ = 1\n",
      "09:03:59.500360 line        13         optimizer.zero_grad()\n",
      "09:03:59.501199 line        14         pred = model(x)\n",
      "09:03:59.501820 line        15         squared_diff = (y - pred) ** 2\n",
      "09:03:59.502507 line        16         loss = squared_diff.mean()\n",
      "09:03:59.503067 line        17         print(loss.item())\n",
      "09:03:59.503712 line        18         loss.backward()\n",
      "09:03:59.504599 line        19         optimizer.step()\n",
      "09:03:59.505210 line        12     for _ in range(10):\n",
      "Modified var:.. _ = 2\n",
      "09:03:59.505717 line        13         optimizer.zero_grad()\n",
      "09:03:59.506384 line        14         pred = model(x)\n",
      "09:03:59.507083 line        15         squared_diff = (y - pred) ** 2\n",
      "09:03:59.507945 line        16         loss = squared_diff.mean()\n",
      "09:03:59.508559 line        17         print(loss.item())\n",
      "09:03:59.509234 line        18         loss.backward()\n",
      "09:03:59.510235 line        19         optimizer.step()\n",
      "09:03:59.510865 line        12     for _ in range(10):\n",
      "Modified var:.. _ = 3\n",
      "09:03:59.511373 line        13         optimizer.zero_grad()\n",
      "09:03:59.512065 line        14         pred = model(x)\n",
      "09:03:59.512743 line        15         squared_diff = (y - pred) ** 2\n",
      "09:03:59.513416 line        16         loss = squared_diff.mean()\n",
      "09:03:59.514002 line        17         print(loss.item())\n",
      "09:03:59.514568 line        18         loss.backward()\n",
      "09:03:59.515454 line        19         optimizer.step()\n",
      "09:03:59.516204 line        12     for _ in range(10):\n",
      "Modified var:.. _ = 4\n",
      "09:03:59.516757 line        13         optimizer.zero_grad()\n",
      "09:03:59.517509 line        14         pred = model(x)\n",
      "09:03:59.518181 line        15         squared_diff = (y - pred) ** 2\n",
      "09:03:59.518784 line        16         loss = squared_diff.mean()\n",
      "09:03:59.519360 line        17         print(loss.item())\n",
      "09:03:59.519936 line        18         loss.backward()\n",
      "09:03:59.520868 line        19         optimizer.step()\n",
      "09:03:59.521479 line        12     for _ in range(10):\n",
      "Modified var:.. _ = 5\n",
      "09:03:59.521993 line        13         optimizer.zero_grad()\n",
      "09:03:59.522668 line        14         pred = model(x)\n",
      "09:03:59.523366 line        15         squared_diff = (y - pred) ** 2\n",
      "09:03:59.524032 line        16         loss = squared_diff.mean()\n",
      "09:03:59.524758 line        17         print(loss.item())\n",
      "09:03:59.525327 line        18         loss.backward()\n",
      "09:03:59.526428 line        19         optimizer.step()\n",
      "09:03:59.527072 line        12     for _ in range(10):\n",
      "Modified var:.. _ = 6\n",
      "09:03:59.527589 line        13         optimizer.zero_grad()\n",
      "09:03:59.528317 line        14         pred = model(x)\n",
      "09:03:59.529025 line        15         squared_diff = (y - pred) ** 2\n",
      "09:03:59.529701 line        16         loss = squared_diff.mean()\n",
      "09:03:59.530296 line        17         print(loss.item())\n",
      "09:03:59.530875 line        18         loss.backward()\n",
      "09:03:59.531758 line        19         optimizer.step()\n",
      "09:03:59.532352 line        12     for _ in range(10):\n",
      "Modified var:.. _ = 7\n",
      "09:03:59.533049 line        13         optimizer.zero_grad()\n",
      "09:03:59.533901 line        14         pred = model(x)\n",
      "09:03:59.534581 line        15         squared_diff = (y - pred) ** 2\n",
      "09:03:59.535191 line        16         loss = squared_diff.mean()\n",
      "09:03:59.535774 line        17         print(loss.item())\n",
      "09:03:59.536343 line        18         loss.backward()\n",
      "09:03:59.537291 line        19         optimizer.step()\n",
      "09:03:59.537912 line        12     for _ in range(10):\n",
      "Modified var:.. _ = 8\n",
      "09:03:59.538419 line        13         optimizer.zero_grad()\n",
      "09:03:59.539108 line        14         pred = model(x)\n",
      "09:03:59.539836 line        15         squared_diff = (y - pred) ** 2\n",
      "09:03:59.540539 line        16         loss = squared_diff.mean()\n",
      "09:03:59.541213 line        17         print(loss.item())\n",
      "09:03:59.541788 line        18         loss.backward()\n",
      "09:03:59.542796 line        19         optimizer.step()\n",
      "09:03:59.543574 line        12     for _ in range(10):\n",
      "Modified var:.. _ = 9\n",
      "09:03:59.544101 line        13         optimizer.zero_grad()\n",
      "09:03:59.544797 line        14         pred = model(x)\n",
      "09:03:59.545474 line        15         squared_diff = (y - pred) ** 2\n",
      "09:03:59.546091 line        16         loss = squared_diff.mean()\n",
      "09:03:59.546746 line        17         print(loss.item())\n",
      "09:03:59.547325 line        18         loss.backward()\n",
      "09:03:59.548214 line        19         optimizer.step()\n",
      "09:03:59.549006 line        12     for _ in range(10):\n",
      "Elapsed time: 00:00:01.647087\n"
     ]
    }
   ],
   "source": [
    "import torch\n",
    "import torchsnooper\n",
    "\n",
    "model = torch.nn.Linear(2, 1)\n",
    "\n",
    "x = torch.tensor([[0.0, 0.0], [0.0, 1.0], [1.0, 0.0], [1.0, 1.0]])\n",
    "y = torch.tensor([3.0, 5.0, 4.0, 6.0])\n",
    "\n",
    "optimizer = torch.optim.SGD(model.parameters(), lr=0.1)\n",
    "\n",
    "with torchsnooper.snoop():\n",
    "    for _ in range(10):\n",
    "        optimizer.zero_grad()\n",
    "        pred = model(x)\n",
    "        squared_diff = (y - pred) ** 2\n",
    "        loss = squared_diff.mean()\n",
    "        print(loss.item())\n",
    "        loss.backward()\n",
    "        optimizer.step()"
   ]
  },
  {
   "cell_type": "code",
   "execution_count": null,
   "metadata": {},
   "outputs": [],
   "source": []
  },
  {
   "cell_type": "code",
   "execution_count": null,
   "metadata": {},
   "outputs": [],
   "source": []
  },
  {
   "cell_type": "code",
   "execution_count": null,
   "metadata": {},
   "outputs": [],
   "source": []
  },
  {
   "cell_type": "code",
   "execution_count": null,
   "metadata": {},
   "outputs": [],
   "source": []
  },
  {
   "cell_type": "code",
   "execution_count": null,
   "metadata": {},
   "outputs": [],
   "source": []
  },
  {
   "cell_type": "code",
   "execution_count": null,
   "metadata": {},
   "outputs": [],
   "source": []
  },
  {
   "cell_type": "code",
   "execution_count": null,
   "metadata": {},
   "outputs": [],
   "source": []
  }
 ],
 "metadata": {
  "kernelspec": {
   "display_name": "Python 3",
   "language": "python",
   "name": "python3"
  },
  "language_info": {
   "codemirror_mode": {
    "name": "ipython",
    "version": 3
   },
   "file_extension": ".py",
   "mimetype": "text/x-python",
   "name": "python",
   "nbconvert_exporter": "python",
   "pygments_lexer": "ipython3",
   "version": "3.7.8"
  }
 },
 "nbformat": 4,
 "nbformat_minor": 4
}
