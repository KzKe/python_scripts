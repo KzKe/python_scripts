{
 "cells": [
  {
   "cell_type": "code",
   "execution_count": 1,
   "metadata": {
    "ExecuteTime": {
     "end_time": "2020-09-18T00:46:53.762770Z",
     "start_time": "2020-09-18T00:46:52.924077Z"
    }
   },
   "outputs": [],
   "source": [
    "import torch\n",
    "import pandas as pd \n",
    "import numpy as np "
   ]
  },
  {
   "cell_type": "code",
   "execution_count": 5,
   "metadata": {
    "ExecuteTime": {
     "end_time": "2020-09-18T01:14:09.790998Z",
     "start_time": "2020-09-18T01:14:09.787581Z"
    }
   },
   "outputs": [],
   "source": [
    "# import torch\n",
    "# import torchsnooper\n",
    "\n",
    "# model = torch.nn.Linear(2, 1)\n",
    "\n",
    "# x = torch.tensor([[0.0, 0.0], [0.0, 1.0], [1.0, 0.0], [1.0, 1.0]])\n",
    "# y = torch.tensor([3.0, 5.0, 4.0, 6.0])\n",
    "\n",
    "# optimizer = torch.optim.SGD(model.parameters(), lr=0.1)\n",
    "\n",
    "# with torchsnooper.snoop():\n",
    "#     for _ in range(10):\n",
    "#         optimizer.zero_grad()\n",
    "#         pred = model(x)\n",
    "#         squared_diff = (y - pred) ** 2\n",
    "#         loss = squared_diff.mean()\n",
    "#         print(loss.item())\n",
    "#         loss.backward()\n",
    "#         optimizer.step()"
   ]
  },
  {
   "cell_type": "code",
   "execution_count": 6,
   "metadata": {
    "ExecuteTime": {
     "end_time": "2020-09-18T01:14:33.150764Z",
     "start_time": "2020-09-18T01:14:33.147919Z"
    }
   },
   "outputs": [],
   "source": [
    "from models.__init__ import *"
   ]
  },
  {
   "cell_type": "code",
   "execution_count": null,
   "metadata": {},
   "outputs": [],
   "source": []
  },
  {
   "cell_type": "code",
   "execution_count": null,
   "metadata": {},
   "outputs": [],
   "source": []
  },
  {
   "cell_type": "code",
   "execution_count": null,
   "metadata": {},
   "outputs": [],
   "source": []
  },
  {
   "cell_type": "code",
   "execution_count": null,
   "metadata": {},
   "outputs": [],
   "source": []
  },
  {
   "cell_type": "code",
   "execution_count": null,
   "metadata": {},
   "outputs": [],
   "source": []
  },
  {
   "cell_type": "code",
   "execution_count": null,
   "metadata": {},
   "outputs": [],
   "source": []
  }
 ],
 "metadata": {
  "kernelspec": {
   "display_name": "Python 3",
   "language": "python",
   "name": "python3"
  },
  "language_info": {
   "codemirror_mode": {
    "name": "ipython",
    "version": 3
   },
   "file_extension": ".py",
   "mimetype": "text/x-python",
   "name": "python",
   "nbconvert_exporter": "python",
   "pygments_lexer": "ipython3",
   "version": "3.7.8"
  }
 },
 "nbformat": 4,
 "nbformat_minor": 4
}
